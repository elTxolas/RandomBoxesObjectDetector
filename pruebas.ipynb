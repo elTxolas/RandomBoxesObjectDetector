{
 "cells": [
  {
   "cell_type": "code",
   "execution_count": 3,
   "metadata": {},
   "outputs": [],
   "source": [
    "import os\n",
    "import shutil"
   ]
  },
  {
   "cell_type": "code",
   "execution_count": 159,
   "metadata": {},
   "outputs": [],
   "source": [
    "with open('split/t2_ft.txt', 'r') as f:\n",
    "    data = f.readlines()\n",
    "data_prefixes = [item.strip() for item in data]\n",
    "\n",
    "jpg_files = os.listdir('datasets/t1/images/train')\n",
    "jpg_prefixes = [os.path.splitext(file)[0].lower() for file in jpg_files]\n",
    "\n",
    "source_folder= 'datasets/t1/images/train'\n",
    "destination_folder= 'datasets/t2_ft/images/train'\n",
    "for filename in jpg_prefixes:\n",
    "    filenameJpg = filename + '.jpg'\n",
    "    if filename in data_prefixes and not os.path.exists(os.path.join(destination_folder,filenameJpg)):\n",
    "        source_path = os.path.join(source_folder, filenameJpg)\n",
    "        shutil.copy(source_path,destination_folder)"
   ]
  },
  {
   "cell_type": "code",
   "execution_count": 35,
   "metadata": {},
   "outputs": [],
   "source": [
    "with open('split/t1_train.txt', 'r') as f:\n",
    "    data = f.readlines()\n",
    "data_prefixes = [item.strip() for item in data]"
   ]
  },
  {
   "cell_type": "code",
   "execution_count": 40,
   "metadata": {},
   "outputs": [],
   "source": [
    "jpg_files = os.listdir('datasets/t1/images/train')\n",
    "jpg_prefixes = [os.path.splitext(file)[0].lower() for file in jpg_files]"
   ]
  },
  {
   "cell_type": "code",
   "execution_count": 7,
   "metadata": {},
   "outputs": [
    {
     "name": "stdout",
     "output_type": "stream",
     "text": [
      "141733\n"
     ]
    }
   ],
   "source": [
    "print(16551+45520+39402+40260)"
   ]
  },
  {
   "cell_type": "code",
   "execution_count": 38,
   "metadata": {},
   "outputs": [
    {
     "data": {
      "text/plain": [
       "16551"
      ]
     },
     "execution_count": 38,
     "metadata": {},
     "output_type": "execute_result"
    }
   ],
   "source": [
    "len(data_prefixes)"
   ]
  },
  {
   "cell_type": "code",
   "execution_count": 41,
   "metadata": {},
   "outputs": [
    {
     "data": {
      "text/plain": [
       "143041"
      ]
     },
     "execution_count": 41,
     "metadata": {},
     "output_type": "execute_result"
    }
   ],
   "source": [
    "len(jpg_prefixes)"
   ]
  },
  {
   "cell_type": "code",
   "execution_count": 155,
   "metadata": {},
   "outputs": [
    {
     "name": "stdout",
     "output_type": "stream",
     "text": [
      "TXT: 2749 JPG: 143041 MISSING: 0\n"
     ]
    }
   ],
   "source": [
    "missing_files = set(data_prefixes) - set(jpg_prefixes)\n",
    "missing_files = list(missing_files)\n",
    "print('TXT:',len(data_prefixes),'JPG:',len(jpg_prefixes), 'MISSING:', len(missing_files))"
   ]
  },
  {
   "cell_type": "code",
   "execution_count": 9,
   "metadata": {},
   "outputs": [],
   "source": [
    "jpg_files = os.listdir('datasets/t1/images/test')\n",
    "jpg_prefixes = [os.path.splitext(file)[0].lower() for file in jpg_files]\n",
    "\n",
    "source_folder= 'datasets/t1/images/test'\n",
    "destination_folder= 'datasets/t2/images/test'\n",
    "for filename in jpg_prefixes:\n",
    "    filenameJpg = filename + '.jpg'\n",
    "    source_path = os.path.join(source_folder, filenameJpg)\n",
    "    shutil.copy(source_path,destination_folder)"
   ]
  },
  {
   "cell_type": "code",
   "execution_count": 3,
   "metadata": {},
   "outputs": [
    {
     "name": "stdout",
     "output_type": "stream",
     "text": [
      "TXT: 10246 JPG: 9952 MISSING: 0\n"
     ]
    }
   ],
   "source": [
    "#checking\n",
    "with open('split/all_task_test.txt', 'r') as f:\n",
    "    data = f.readlines()\n",
    "data_prefixes = [item.strip() for item in data]\n",
    "\n",
    "jpg_files = os.listdir('datasets/t1/images/test')\n",
    "jpg_prefixes = [os.path.splitext(file)[0].lower() for file in jpg_files]\n",
    "missing_files = set(data_prefixes) - set(jpg_prefixes)\n",
    "missing_files = list(missing_files)\n",
    "print('TXT:',len(data_prefixes),'JPG:',len(jpg_prefixes), 'MISSING:', len(missing_files))"
   ]
  },
  {
   "cell_type": "code",
   "execution_count": 1,
   "metadata": {},
   "outputs": [],
   "source": [
    "import torch\n"
   ]
  },
  {
   "cell_type": "code",
   "execution_count": 2,
   "metadata": {},
   "outputs": [
    {
     "data": {
      "text/plain": [
       "True"
      ]
     },
     "execution_count": 2,
     "metadata": {},
     "output_type": "execute_result"
    }
   ],
   "source": [
    "torch.cuda.is_available()"
   ]
  },
  {
   "cell_type": "code",
   "execution_count": 3,
   "metadata": {},
   "outputs": [
    {
     "data": {
      "text/plain": [
       "4"
      ]
     },
     "execution_count": 3,
     "metadata": {},
     "output_type": "execute_result"
    }
   ],
   "source": [
    "torch.cuda.device_count()"
   ]
  },
  {
   "cell_type": "code",
   "execution_count": 4,
   "metadata": {},
   "outputs": [
    {
     "data": {
      "text/plain": [
       "tensor([1, 2, 3, 4], device='cuda:0')"
      ]
     },
     "execution_count": 4,
     "metadata": {},
     "output_type": "execute_result"
    }
   ],
   "source": [
    "torch.tensor([1, 2, 3, 4], device='cuda')"
   ]
  },
  {
   "cell_type": "code",
   "execution_count": 2,
   "metadata": {},
   "outputs": [],
   "source": [
    "import torch"
   ]
  },
  {
   "cell_type": "code",
   "execution_count": 34,
   "metadata": {},
   "outputs": [],
   "source": [
    "x_dic = torch.rand((10000,4))\n",
    "x_meta = torch.arange(start=-2,end=2,step=0.4)"
   ]
  },
  {
   "cell_type": "code",
   "execution_count": 42,
   "metadata": {},
   "outputs": [
    {
     "data": {
      "text/plain": [
       "tensor(0.2571)"
      ]
     },
     "execution_count": 42,
     "metadata": {},
     "output_type": "execute_result"
    }
   ],
   "source": [
    "x_dic[1][3]"
   ]
  },
  {
   "cell_type": "code",
   "execution_count": 47,
   "metadata": {},
   "outputs": [
    {
     "data": {
      "text/plain": [
       "tensor([[0.0245, 0.5429, 0.5017, 0.5101],\n",
       "        [0.0121, 0.0188, 0.2528, 0.6183],\n",
       "        [0.0363, 0.2514, 0.9266, 0.2487],\n",
       "        ...,\n",
       "        [0.3710, 0.1542, 0.4014, 0.1297],\n",
       "        [0.3951, 0.8283, 0.7753, 0.8947],\n",
       "        [0.1025, 0.5294, 0.8524, 0.4669]])"
      ]
     },
     "execution_count": 47,
     "metadata": {},
     "output_type": "execute_result"
    }
   ],
   "source": [
    "x_dic[torch.randperm(x_dic.size(0))]"
   ]
  },
  {
   "cell_type": "code",
   "execution_count": 31,
   "metadata": {},
   "outputs": [
    {
     "data": {
      "text/plain": [
       "tensor(0.5617)"
      ]
     },
     "execution_count": 31,
     "metadata": {},
     "output_type": "execute_result"
    }
   ],
   "source": [
    "x_dic[1000+100+10+1][0]"
   ]
  },
  {
   "cell_type": "code",
   "execution_count": 32,
   "metadata": {},
   "outputs": [],
   "source": [
    "x_dic[1000+100+10+1][0]=x_meta[1]"
   ]
  },
  {
   "cell_type": "code",
   "execution_count": 33,
   "metadata": {},
   "outputs": [
    {
     "data": {
      "text/plain": [
       "tensor(-1.6000)"
      ]
     },
     "execution_count": 33,
     "metadata": {},
     "output_type": "execute_result"
    }
   ],
   "source": [
    "x_dic[1000+100+10+1][0]"
   ]
  },
  {
   "cell_type": "code",
   "execution_count": 23,
   "metadata": {},
   "outputs": [],
   "source": [
    "for i1 in range(10):\n",
    "    for i2 in range(10):\n",
    "        for i3 in range(10):\n",
    "            for i4 in range(10):\n",
    "                 x_dic[i1*1000+i2*100+i3*10+i4][0],x_dic[i1*1000+i2*100+i3*10+i4][1],x_dic[i1*1000+i2*100+i3*10+i4][2],x_dic[i1*1000+i2*100+i3*10+i4][3] = x_meta[i1],x_meta[i2],x_meta[i3],x_meta[i4]\n",
    "x_dic = x_dic[torch.randperm(x_dic.size(0))]"
   ]
  },
  {
   "cell_type": "code",
   "execution_count": 24,
   "metadata": {},
   "outputs": [
    {
     "data": {
      "text/plain": [
       "tensor([[-2.0000e+00, -1.6000e+00,  4.0000e-01, -1.2000e+00],\n",
       "        [-8.0000e-01, -1.6000e+00, -2.0000e+00,  1.2000e+00],\n",
       "        [ 4.0000e-01,  8.0000e-01,  1.6000e+00,  8.0000e-01],\n",
       "        ...,\n",
       "        [ 8.0000e-01,  1.2000e+00,  4.0000e-01, -2.0000e+00],\n",
       "        [ 1.2000e+00, -1.2000e+00, -1.2000e+00,  1.1102e-16],\n",
       "        [-1.6000e+00, -4.0000e-01, -2.0000e+00,  1.6000e+00]])"
      ]
     },
     "execution_count": 24,
     "metadata": {},
     "output_type": "execute_result"
    }
   ],
   "source": [
    "x_dic"
   ]
  },
  {
   "cell_type": "code",
   "execution_count": null,
   "metadata": {},
   "outputs": [],
   "source": [
    "device = torch.device('cpu')"
   ]
  },
  {
   "cell_type": "code",
   "execution_count": 50,
   "metadata": {},
   "outputs": [],
   "source": [
    "t = torch.randint(0, 1000, (1,)).long()"
   ]
  },
  {
   "cell_type": "code",
   "execution_count": 51,
   "metadata": {},
   "outputs": [
    {
     "data": {
      "text/plain": [
       "tensor([602])"
      ]
     },
     "execution_count": 51,
     "metadata": {},
     "output_type": "execute_result"
    }
   ],
   "source": [
    "t"
   ]
  },
  {
   "cell_type": "code",
   "execution_count": 52,
   "metadata": {},
   "outputs": [],
   "source": [
    "x = torch.randn(1000, 4)"
   ]
  },
  {
   "cell_type": "code",
   "execution_count": 53,
   "metadata": {},
   "outputs": [
    {
     "data": {
      "text/plain": [
       "tensor([[-0.3999, -0.1084, -0.3614, -1.2144],\n",
       "        [ 0.4294,  0.5482,  0.5486,  0.2227],\n",
       "        [-0.1483,  0.5492, -0.8637,  0.4882],\n",
       "        ...,\n",
       "        [ 1.8766, -2.2535, -0.4195,  0.9122],\n",
       "        [-1.5240,  1.5395,  0.5514, -0.1140],\n",
       "        [ 0.3363, -0.6876, -0.1506,  1.4572]])"
      ]
     },
     "execution_count": 53,
     "metadata": {},
     "output_type": "execute_result"
    }
   ],
   "source": [
    "x"
   ]
  },
  {
   "cell_type": "code",
   "execution_count": null,
   "metadata": {},
   "outputs": [],
   "source": []
  }
 ],
 "metadata": {
  "kernelspec": {
   "display_name": "venv-od",
   "language": "python",
   "name": "python3"
  },
  "language_info": {
   "codemirror_mode": {
    "name": "ipython",
    "version": 3
   },
   "file_extension": ".py",
   "mimetype": "text/x-python",
   "name": "python",
   "nbconvert_exporter": "python",
   "pygments_lexer": "ipython3",
   "version": "3.10.4"
  }
 },
 "nbformat": 4,
 "nbformat_minor": 2
}
